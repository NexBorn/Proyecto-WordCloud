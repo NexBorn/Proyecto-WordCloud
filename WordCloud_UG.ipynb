{
  "nbformat": 4,
  "nbformat_minor": 0,
  "metadata": {
    "colab": {
      "name": "WordCloud-UG.ipynb",
      "provenance": [],
      "collapsed_sections": [],
      "authorship_tag": "ABX9TyPHAdArNpDAxfC+0v/YmW9M",
      "include_colab_link": true
    },
    "kernelspec": {
      "name": "python3",
      "display_name": "Python 3"
    }
  },
  "cells": [
    {
      "cell_type": "markdown",
      "metadata": {
        "id": "view-in-github",
        "colab_type": "text"
      },
      "source": [
        "<a href=\"https://colab.research.google.com/github/NexBorn/Proyecto-WordCloud/blob/master/WordCloud_UG.ipynb\" target=\"_parent\"><img src=\"https://colab.research.google.com/assets/colab-badge.svg\" alt=\"Open In Colab\"/></a>"
      ]
    },
    {
      "cell_type": "code",
      "metadata": {
        "id": "DQzpmp_Zrbzr",
        "colab_type": "code",
        "colab": {
          "base_uri": "https://localhost:8080/",
          "height": 215
        },
        "outputId": "dccc0cda-576a-4909-c2a3-6ff7669e911e"
      },
      "source": [
        "from bs4 import BeautifulSoup\n",
        "import requests\n",
        "from wordcloud import WordCloud\n",
        "import matplotlib.pyplot as plt\n",
        "\n",
        "print(\"Ingrese el link del usuario\")\n",
        "\n",
        "url = \"https://es.stackoverflow.com/users/54039/triby?tab=tags\"\n",
        "\n",
        "page = requests.get(url)\n",
        "\n",
        "soup = BeautifulSoup(page.content, 'html.parser')\n",
        "\n",
        "eq = soup.find_all(\"td\")\n",
        "\n",
        "lista = list()\n",
        "completelist = list()\n",
        "netiquetas = list()\n",
        "for i in eq:\n",
        "    lista.append(i.find(\"a\", class_=\"post-tag\").text)\n",
        "\n",
        "for i in eq:\n",
        "    netiquetas.append(i.find(\"div\", class_=\"answer-votes\").text)\n",
        "\n",
        "for j in range(len(lista)):\n",
        "    for k in range(int(netiquetas[j])):\n",
        "        completelist.append(lista[j])\n",
        "\n",
        "wc = WordCloud(background_color=\"white\",collocations=False).generate(' '.join(completelist))\n",
        "\n",
        "plt.imshow(wc)\n",
        "plt.axis('off')\n",
        "plt.show()\n"
      ],
      "execution_count": 4,
      "outputs": [
        {
          "output_type": "stream",
          "text": [
            "Ingrese el link\n"
          ],
          "name": "stdout"
        },
       
}
